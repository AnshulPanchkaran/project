{
 "cells": [
  {
   "cell_type": "code",
   "execution_count": 5,
   "id": "dda9da6d",
   "metadata": {},
   "outputs": [
    {
     "name": "stdout",
     "output_type": "stream",
     "text": [
      "Creating..../data/frame0.jpg\n",
      "Creating..../data/frame1800.jpg\n",
      "Creating..../data/frame3600.jpg\n",
      "Creating..../data/frame5400.jpg\n",
      "Creating..../data/frame7200.jpg\n",
      "Creating..../data/frame9000.jpg\n",
      "Creating..../data/frame10800.jpg\n",
      "Creating..../data/frame12600.jpg\n",
      "Creating..../data/frame14400.jpg\n",
      "Creating..../data/frame16200.jpg\n",
      "Creating..../data/frame18000.jpg\n",
      "Creating..../data/frame19800.jpg\n",
      "Creating..../data/frame21600.jpg\n"
     ]
    }
   ],
   "source": [
    "import cv2\n",
    "import os\n",
    "cam = cv2.VideoCapture(\"video.mp4\")\n",
    "try:\n",
    "    if not os.path.exists('data'):\n",
    "        os.makedirs('data')\n",
    "except OSError:\n",
    "    print(\"Error: Creating directory of data\")\n",
    "fps = cam.get(cv2.CAP_PROP_FPS)\n",
    "interval_seconds = 60  # 1 minute\n",
    "interval_frames = int(fps * interval_seconds)\n",
    "current_frame = 0\n",
    "current_time = 0\n",
    "\n",
    "while (True):\n",
    "    ret, frame = cam.read()\n",
    "\n",
    "    if ret:\n",
    "        if (current_frame % interval_frames == 0):\n",
    "            name ='./data/frame'+str(current_frame)+\".jpg\"\n",
    "            print(\"Creating...\"+name)\n",
    "            cv2.imwrite(name, frame)\n",
    "\n",
    "        current_frame += 1\n",
    "        current_time = current_frame / fps\n",
    "    else:\n",
    "        break\n",
    "cam.release()\n",
    "cv2.destroyAllWindows()\n"
   ]
  },
  {
   "cell_type": "code",
   "execution_count": null,
   "id": "dfe0794d",
   "metadata": {},
   "outputs": [],
   "source": []
  }
 ],
 "metadata": {
  "kernelspec": {
   "display_name": "Python 3 (ipykernel)",
   "language": "python",
   "name": "python3"
  },
  "language_info": {
   "codemirror_mode": {
    "name": "ipython",
    "version": 3
   },
   "file_extension": ".py",
   "mimetype": "text/x-python",
   "name": "python",
   "nbconvert_exporter": "python",
   "pygments_lexer": "ipython3",
   "version": "3.11.3"
  }
 },
 "nbformat": 4,
 "nbformat_minor": 5
}
